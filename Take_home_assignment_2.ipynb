{
  "nbformat": 4,
  "nbformat_minor": 0,
  "metadata": {
    "colab": {
      "provenance": []
    },
    "kernelspec": {
      "name": "python3",
      "display_name": "Python 3"
    },
    "language_info": {
      "name": "python"
    }
  },
  "cells": [
    {
      "cell_type": "code",
      "execution_count": null,
      "metadata": {
        "id": "9mvR1kShjgi_"
      },
      "outputs": [],
      "source": [
        "import numpy as np\n",
        "from skimage import io\n",
        "import matplotlib.pyplot as plt\n",
        "\n",
        "def region_grow(img, seed, threshold):\n",
        "   \n",
        "    mask = np.zeros(img.shape, dtype=bool)\n",
        "    visited = np.zeros(img.shape, dtype=bool)\n",
        "    \n",
        "    seed_val = img[seed]\n",
        "    \n",
        "    offsets = [(0, 1), (1, 0), (0, -1), (-1, 0)]\n",
        "    \n",
        "    def grow_region(pixel):\n",
        "        for offset in offsets:\n",
        "            neighbor = (pixel[0] + offset[0], pixel[1] + offset[1])\n",
        "            \n",
        "            \n",
        "            if (0 <= neighbor[0] < img.shape[0] and 0 <= neighbor[1] < img.shape[1]\n",
        "                and not visited[neighbor]):\n",
        "                \n",
        "               \n",
        "                neighbor_val = img[neighbor]\n",
        "                \n",
        "                \n",
        "                if abs(neighbor_val - seed_val) <= threshold:\n",
        "                 \n",
        "                    mask[neighbor] = True\n",
        "                    visited[neighbor] = True\n",
        "                    \n",
        "                    \n",
        "                    grow_region(neighbor)\n",
        "    \n",
        "   \n",
        "    mask[seed] = True\n",
        "    visited[seed] = True\n",
        "    grow_region(seed)\n",
        "    \n",
        "    return mask\n",
        "\n",
        "\n",
        "img = io.imread('takehome2.jpeg')\n",
        "gray_img = np.mean(img, axis=2)\n",
        "\n",
        "\n",
        "seed = (50, 50)\n",
        "threshold = 10\n",
        "\n",
        "\n",
        "mask = region_grow(gray_img, seed, threshold)\n",
        "\n",
        "\n",
        "fig, axs = plt.subplots(1, 2, figsize=(8, 4))\n",
        "\n",
        "axs[0].imshow(img)\n",
        "axs[0].set_title('Original image')\n",
        "\n",
        "axs[1].imshow(mask, cmap='gray')\n",
        "axs[1].set_title('Segmented region')\n",
        "\n",
        "plt.show()"
      ]
    }
  ]
}
